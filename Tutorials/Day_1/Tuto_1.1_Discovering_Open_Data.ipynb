{
  "cells": [
    {
      "cell_type": "markdown",
      "metadata": {
        "Collapsed": "false",
        "editable": true,
        "id": "R_adEak0Q8NT",
        "tags": []
      },
      "source": [
        "<span style=\"float: left;padding: 1.3em\">![logo](https://github.com/gw-odw/odw/blob/main/Tutorials/logo.png?raw=1)</span>\n",
        "\n",
        "# Gravitational Wave Open Data Workshop\n",
        "\n",
        "## Tutorial 1.1: Discovering open data from GW observatories\n",
        "\n",
        "This notebook describes how to discover what data are available from the [Gravitational-Wave Open Science Center (GWOSC)](https://gwosc.org).\n",
        "    \n",
        "View this tutorial on [Google Colaboratory](https://colab.research.google.com/github/gw-odw/odw/blob/main/Tutorials/Day_1/Tuto_1.1_Discovering_Open_Data.ipynb) or launch [mybinder](https://mybinder.org/v2/gh/gw-odw/odw/HEAD).\n"
      ]
    },
    {
      "cell_type": "markdown",
      "metadata": {
        "Collapsed": "false",
        "id": "W6msjCJVQ8NV"
      },
      "source": [
        "## Installation (execute only if running on a cloud platform, like Google Colab, or if you haven't done the installation already!)\n",
        "\n",
        "First, we need to install the software, which we do following the instruction in [Software Setup Instructions](../../setup.md):"
      ]
    },
    {
      "cell_type": "markdown",
      "metadata": {
        "id": "KMwH-EHQmQJ4"
      },
      "source": [
        "> ⚠️ **Warning**: restart the runtime after running the cell below.\n",
        ">\n",
        "> To do so, click \"Runtime\" in the menu and choose \"Restart and run all\"."
      ]
    },
    {
      "cell_type": "code",
      "execution_count": 1,
      "metadata": {
        "id": "HIS3VywcmQJ4"
      },
      "outputs": [],
      "source": [
        "# -- Uncomment following line if running in Google Colab\n",
        "! pip install -q 'gwosc==0.7.1'"
      ]
    },
    {
      "cell_type": "markdown",
      "metadata": {
        "id": "xaZlZqxTmQJ5"
      },
      "source": [
        "## Initialization"
      ]
    },
    {
      "cell_type": "code",
      "execution_count": 2,
      "metadata": {
        "colab": {
          "base_uri": "https://localhost:8080/"
        },
        "id": "uoNe5S2EmQJ5",
        "outputId": "9f8e3310-5b37-42cb-c507-e89d837308eb"
      },
      "outputs": [
        {
          "output_type": "stream",
          "name": "stdout",
          "text": [
            "0.7.1\n"
          ]
        }
      ],
      "source": [
        "#check the version of the package gwosc you are using\n",
        "import gwosc\n",
        "print(gwosc.__version__)"
      ]
    },
    {
      "cell_type": "markdown",
      "metadata": {
        "id": "fP_cXK_zmQJ5"
      },
      "source": [
        "The version you get should be 0.7.1. If it's not, check that you have followed all the steps in [Software Setup Instructions](../../setup.md)."
      ]
    },
    {
      "cell_type": "markdown",
      "metadata": {
        "id": "wW1HtgoJmQJ5"
      },
      "source": [
        "## A brief presentation of GWOSC and Open Data"
      ]
    },
    {
      "cell_type": "markdown",
      "metadata": {
        "id": "cIpn6OIAmQJ5"
      },
      "source": [
        "Open Science is the movement to make scientific research accessible to everyone and to increase scientific collaboration. Open Science includes different movements and practices such as open data, open source software and infrastructures, open access to publications and citizen science and more. See the [wikipedia page](https://en.wikipedia.org/wiki/Open_science) for more information."
      ]
    },
    {
      "cell_type": "markdown",
      "metadata": {
        "id": "O3xgOkm6mQJ5"
      },
      "source": [
        "Data from the LIGO-Virgo-KAGRA (LVK) collaboration are made available to the public via the [Gravitational-Wave Open Science Center (GWOSC)](https://gwosc.org), as described in the [LIGO Data Management Plan](https://dcc.ligo.org/LIGO-M1000066/public)."
      ]
    },
    {
      "cell_type": "markdown",
      "metadata": {
        "id": "FDMm7K2pmQJ6"
      },
      "source": [
        "For a more detailed presentation of the data, including conventions on file and channel names and details about the preparation of the data, see the paper \"_Open Data from the Third Observing Run of LIGO, Virgo, KAGRA, and GEO_\" ([link](https://iopscience.iop.org/article/10.3847/1538-4365/acdc9f))."
      ]
    },
    {
      "cell_type": "markdown",
      "metadata": {
        "id": "pmGB9kOdmQJ6"
      },
      "source": [
        "The GWOSC also provides links to software used to analyze LVK data and organize training sessions (you are participating in it!)."
      ]
    },
    {
      "cell_type": "markdown",
      "metadata": {
        "Collapsed": "false",
        "id": "F3tmmQ-hQ8Nu"
      },
      "source": [
        "## Querying for event information\n",
        "\n",
        "The module `gwosc.datasets` provides tools for searching for datasets, including events, catalogs and full run strain data releases.\n",
        "\n",
        "\n",
        "For example, we can search for events in the [GWTC-1 catalog](https://gwosc.org/eventapi/html/GWTC-1-confident/), the catalog of all events from the O1 and O2 observing runs. A list of available catalogs can be seen in the [Event Portal](https://gwosc.org/eventapi)"
      ]
    },
    {
      "cell_type": "code",
      "execution_count": 3,
      "metadata": {
        "colab": {
          "base_uri": "https://localhost:8080/"
        },
        "id": "pies6tiLmQJ6",
        "outputId": "97e83ebf-dbb7-44e2-dae0-cecadd4ae4df"
      },
      "outputs": [
        {
          "output_type": "stream",
          "name": "stdout",
          "text": [
            "List of available catalogs\n",
            "['GWTC', 'GWTC-1-confident', 'GWTC-1-marginal', 'GWTC-2', 'GWTC-2.1-auxiliary', 'GWTC-2.1-confident', 'GWTC-2.1-marginal', 'GWTC-3-confident', 'GWTC-3-marginal', 'IAS-O3a', 'Initial_LIGO_Virgo', 'O1_O2-Preliminary', 'O3_Discovery_Papers', 'O3_IMBH_marginal', 'O4_Discovery_Papers']\n"
          ]
        }
      ],
      "source": [
        "from gwosc.datasets import find_datasets\n",
        "from gwosc import datasets\n",
        "\n",
        "#-- List all available catalogs\n",
        "print(\"List of available catalogs\")\n",
        "print(find_datasets(type=\"catalog\"))"
      ]
    },
    {
      "cell_type": "code",
      "execution_count": 4,
      "metadata": {
        "colab": {
          "base_uri": "https://localhost:8080/"
        },
        "id": "9n1KxMd8mQJ6",
        "outputId": "a2ee71cf-c15a-44dc-eac3-9a72a889c014"
      },
      "outputs": [
        {
          "output_type": "stream",
          "name": "stdout",
          "text": [
            "GWTC-1 events: ['GW150914-v3', 'GW151012-v3', 'GW151226-v2', 'GW170104-v2', 'GW170608-v3', 'GW170729-v1', 'GW170809-v1', 'GW170814-v3', 'GW170817-v3', 'GW170818-v1', 'GW170823-v1']\n",
            "\n"
          ]
        }
      ],
      "source": [
        "#-- Print all the GW events from the GWTC-1 catalog\n",
        "gwtc1 = datasets.find_datasets(type='events', catalog='GWTC-1-confident')\n",
        "print('GWTC-1 events:', gwtc1)\n",
        "print(\"\")"
      ]
    },
    {
      "cell_type": "markdown",
      "metadata": {
        "id": "NMgPM_BxmQJ6"
      },
      "source": [
        "Note that the event name is of the type _GWyymmdd-vx_ where _x_ is the last available version for the data set provided by GWOSC."
      ]
    },
    {
      "cell_type": "code",
      "execution_count": 5,
      "metadata": {
        "colab": {
          "base_uri": "https://localhost:8080/"
        },
        "id": "q7LgKsvgmQJ6",
        "outputId": "78e663ec-8724-41a5-f376-ea3fb7085887"
      },
      "outputs": [
        {
          "output_type": "stream",
          "name": "stdout",
          "text": [
            "Large data sets: ['BKGW170608_16KHZ_R1', 'O1', 'O1_16KHZ', 'O2_16KHZ_R1', 'O2_4KHZ_R1', 'O3GK_16KHZ_R1', 'O3GK_4KHZ_R1', 'O3a_16KHZ_R1', 'O3a_4KHZ_R1', 'O3b_16KHZ_R1', 'O3b_4KHZ_R1', 'S5', 'S6']\n"
          ]
        }
      ],
      "source": [
        "#-- Print all the large strain data sets from LIGO/Virgo/KAGRA observing runs\n",
        "runs = find_datasets(type='run')\n",
        "print('Large data sets:', runs)"
      ]
    },
    {
      "cell_type": "markdown",
      "metadata": {
        "id": "7DlR2aCymQJ6"
      },
      "source": [
        "_Attention: Note that the most recent observation runs, e.g. O2, are labeled with names containing the name of the run (e.g. O2), the sampling rate (4 or 16 kHz) and the release version (e.g. R1). This means that for O2 you have two labels 'O2_4KHZ_R1' and 'O2_16KHZ_R1', depending which is the desired sampling rate_"
      ]
    },
    {
      "cell_type": "markdown",
      "metadata": {
        "Collapsed": "false",
        "id": "D9_tRXpMQ8N8"
      },
      "source": [
        "`datasets.find_datasets` also accepts a `segment` and `detector` keyword to narrow results based on GPS time and detector:"
      ]
    },
    {
      "cell_type": "code",
      "execution_count": 6,
      "metadata": {
        "Collapsed": "false",
        "colab": {
          "base_uri": "https://localhost:8080/"
        },
        "id": "XZTniqwHQ8N-",
        "outputId": "4f45a64f-66b6-4a74-eff7-3bb7553d5c2d"
      },
      "outputs": [
        {
          "output_type": "stream",
          "name": "stdout",
          "text": [
            "['GW170104-v2', 'GW170608-v3', 'GW170729-v1', 'GW170809-v1', 'GW170814-v3', 'GW170817-v3', 'GW170818-v1', 'GW170823-v1']\n"
          ]
        }
      ],
      "source": [
        "#-- Detector and segments keywords limit search result\n",
        "print(datasets.find_datasets(type='events', catalog='GWTC-1-confident', detector=\"L1\", segment=(1164556817, 1187733618)))"
      ]
    },
    {
      "cell_type": "markdown",
      "metadata": {
        "Collapsed": "false",
        "id": "7pnAItOJQ8OC"
      },
      "source": [
        "Using `gwosc.datasets.event_gps`, we can query for the GPS time of a specific event (it works also without the version number):"
      ]
    },
    {
      "cell_type": "code",
      "execution_count": 7,
      "metadata": {
        "Collapsed": "false",
        "colab": {
          "base_uri": "https://localhost:8080/"
        },
        "id": "tdr8c15_Q8OD",
        "outputId": "522f997c-25ba-4a0d-eeec-d63b93247d96"
      },
      "outputs": [
        {
          "output_type": "stream",
          "name": "stdout",
          "text": [
            "1240215503.0\n"
          ]
        }
      ],
      "source": [
        "from gwosc.datasets import event_gps\n",
        "gps = event_gps('GW190425')\n",
        "print(gps)"
      ]
    },
    {
      "cell_type": "markdown",
      "metadata": {
        "Collapsed": "false",
        "id": "hKvQhYAOQ8OG"
      },
      "source": [
        "<div class=\"alert alert-info\">All of these times are returned in the GPS time system, which counts the number of seconds that have elapsed since the start of the GPS epoch at midnight (00:00) on January 6th 1980. GWOSC provides a <a href=\"https://gwosc.org/gps/\">GPS time converter</a> you can use to translate into datetime, or you can use <a href=\"https://gwpy.github.io/docs/stable/time/\"><code>gwpy.time</code></a>.</div>"
      ]
    },
    {
      "cell_type": "code",
      "execution_count": 8,
      "metadata": {
        "colab": {
          "base_uri": "https://localhost:8080/"
        },
        "id": "czlJjG_3mQJ6",
        "outputId": "cb35bcd5-35ed-4935-f5e4-86cb260702b8"
      },
      "outputs": [
        {
          "output_type": "stream",
          "name": "stdout",
          "text": [
            "GW190425\n"
          ]
        }
      ],
      "source": [
        "# You can do also the vice-versa\n",
        "from gwosc.datasets import event_at_gps\n",
        "print(datasets.event_at_gps(1240215503))"
      ]
    },
    {
      "cell_type": "markdown",
      "metadata": {
        "id": "vRBRb8yamQJ7"
      },
      "source": [
        "Note that the method `event_at_gps` looks for events found within 1 seconds of the given GPS time. If no events is found it will give an error."
      ]
    },
    {
      "cell_type": "markdown",
      "metadata": {
        "Collapsed": "false",
        "id": "RXVyJsDDQ8OH"
      },
      "source": [
        "We can query for the GPS time interval for an observing run:"
      ]
    },
    {
      "cell_type": "code",
      "execution_count": 9,
      "metadata": {
        "Collapsed": "false",
        "colab": {
          "base_uri": "https://localhost:8080/"
        },
        "id": "QYsQSPNJQ8OK",
        "outputId": "629adb37-37f7-4e54-f1db-953d97b6f582"
      },
      "outputs": [
        {
          "output_type": "stream",
          "name": "stdout",
          "text": [
            "(1126051217, 1137254417)\n"
          ]
        }
      ],
      "source": [
        "from gwosc.datasets import run_segment\n",
        "print(run_segment('O1'))"
      ]
    },
    {
      "cell_type": "code",
      "execution_count": 10,
      "metadata": {
        "colab": {
          "base_uri": "https://localhost:8080/"
        },
        "id": "3XhKGLxsmQJ7",
        "outputId": "4fffa01e-489f-4535-b4d7-d7fdc04034ca"
      },
      "outputs": [
        {
          "output_type": "stream",
          "name": "stdout",
          "text": [
            "O3a_4KHZ_R1\n"
          ]
        }
      ],
      "source": [
        "# and vice-versa also in this case\n",
        "from gwosc.datasets import run_at_gps\n",
        "print(run_at_gps(1240215503))"
      ]
    },
    {
      "cell_type": "markdown",
      "metadata": {
        "id": "b8RBKcVgmQJ7"
      },
      "source": [
        "Now we can use what we have learned with `run_segment` and `find_datasets` to see only the confident events in O1:"
      ]
    },
    {
      "cell_type": "code",
      "execution_count": 11,
      "metadata": {
        "colab": {
          "base_uri": "https://localhost:8080/"
        },
        "id": "kY1YfOOrmQJ7",
        "outputId": "011295bc-73ee-46d8-c95c-cdd7645ecdf1"
      },
      "outputs": [
        {
          "output_type": "stream",
          "name": "stdout",
          "text": [
            "['GW150914-v3', 'GW151012-v3', 'GW151226-v2']\n"
          ]
        }
      ],
      "source": [
        "O1_events = datasets.find_datasets(type='events', catalog='GWTC-1-confident', segment=run_segment('O1'))\n",
        "print(O1_events)"
      ]
    },
    {
      "cell_type": "markdown",
      "metadata": {
        "Collapsed": "false",
        "id": "ACFu7w4_Q8OO"
      },
      "source": [
        "## Querying for data files\n",
        "\n",
        "The `gwosc.locate` module provides a function to find the URLs of data files associated with a given dataset.\n",
        "\n",
        "For event datasets, one can get the list of URLs using only the event name:"
      ]
    },
    {
      "cell_type": "code",
      "execution_count": 12,
      "metadata": {
        "Collapsed": "false",
        "colab": {
          "base_uri": "https://localhost:8080/"
        },
        "id": "uMb1bsBNQ8OQ",
        "outputId": "41734d43-35df-4a9d-dd89-ec071b8cd01b"
      },
      "outputs": [
        {
          "output_type": "stream",
          "name": "stdout",
          "text": [
            "['https://gwosc.org/eventapi/json/GWTC-1-confident/GW150914/v3/H-H1_GWOSC_4KHZ_R1-1126259447-32.hdf5', 'https://gwosc.org/eventapi/json/GWTC-1-confident/GW150914/v3/H-H1_GWOSC_4KHZ_R1-1126257415-4096.hdf5', 'https://gwosc.org/eventapi/json/GWTC-1-confident/GW150914/v3/L-L1_GWOSC_4KHZ_R1-1126259447-32.hdf5', 'https://gwosc.org/eventapi/json/GWTC-1-confident/GW150914/v3/L-L1_GWOSC_4KHZ_R1-1126257415-4096.hdf5']\n"
          ]
        }
      ],
      "source": [
        "from gwosc.locate import get_event_urls\n",
        "urls = get_event_urls('GW150914')\n",
        "print(urls)"
      ]
    },
    {
      "cell_type": "markdown",
      "metadata": {
        "Collapsed": "false",
        "id": "19XV79-XQ8OV"
      },
      "source": [
        "By default, this function returns all of the files associated with a given event, which isn't particularly helpful. However, we can filter on any of these by using keyword arguments, for example to get the URL for the 32-second file for the LIGO-Livingston detector:"
      ]
    },
    {
      "cell_type": "code",
      "execution_count": 13,
      "metadata": {
        "Collapsed": "false",
        "colab": {
          "base_uri": "https://localhost:8080/"
        },
        "id": "H7MfuRbPQ8OW",
        "outputId": "31430f08-ad8f-401f-b589-64dd168f77b0"
      },
      "outputs": [
        {
          "output_type": "stream",
          "name": "stdout",
          "text": [
            "['https://gwosc.org/eventapi/json/GWTC-1-confident/GW150914/v3/L-L1_GWOSC_4KHZ_R1-1126259447-32.hdf5']\n"
          ]
        }
      ],
      "source": [
        "urls = get_event_urls('GW150914', duration=32, detector='L1')\n",
        "print(urls)"
      ]
    },
    {
      "cell_type": "markdown",
      "metadata": {
        "id": "nYTMOqvcmQJ7"
      },
      "source": [
        "##  Query filtered by merger parameters\n",
        "The `query_events` module of `gwosc.datasets` allows to get a list of events filtered by some parameters, similar to what is done by the `Query` function of the [event portal](https://gwosc.org/eventapi/html/query/). A list of available parameters can be found [here](https://gwosc.readthedocs.io/en/stable/reference/gwosc.datasets.query_events.html) or using `query_events?`.\n",
        "\n",
        "Let's see how to use this module to find which events have been detected with a network signal to noise ratio (SNR) between 25 and 30:"
      ]
    },
    {
      "cell_type": "code",
      "execution_count": 14,
      "metadata": {
        "colab": {
          "base_uri": "https://localhost:8080/"
        },
        "id": "0eR-f9yDmQJ7",
        "outputId": "7995ebd2-dab1-4dbe-cfb7-91ac23534606"
      },
      "outputs": [
        {
          "output_type": "stream",
          "name": "stdout",
          "text": [
            "['GW200129_065458-v1', 'GW190814-v1', 'GW190814_211039-v3', 'GW190521_074359-v2', 'GW150914-v3']\n"
          ]
        }
      ],
      "source": [
        "from gwosc.datasets import query_events\n",
        "selection = query_events(select=[\"25 <= network-matched-filter-snr <= 30\"])\n",
        "#this is equivalent to\n",
        "#query_events(select=[\"network-matched-filter-snr <= 30\", \"network-matched-filter-snr>= 25\"])\n",
        "print(selection)"
      ]
    },
    {
      "cell_type": "markdown",
      "metadata": {
        "id": "v8hj5hO_mQJ7"
      },
      "source": [
        "Note that this module will give the list of **all available versions** for all the events that have the required parameters. For example, in this query the event GW190814 is listed twice because 2 versions of that event satisfy the request of SNR between 25 and 30."
      ]
    },
    {
      "cell_type": "markdown",
      "metadata": {
        "Collapsed": "false",
        "id": "r_YLBpR0Q8Oe"
      },
      "source": [
        "# Exercises\n",
        "\n",
        "Now that you've seen examples of how to query for dataset information using the `gwosc` package, please try and complete the following exercises using that interface:\n",
        "\n",
        "- How many months did O2 last? (Hint: check the output of _find_datasets(type='run')_ to find the correct label to use)\n",
        "- How many GWTC-3-confident events were detected during O3b?\n",
        "- How many events have been detected with a network signal to noise ratio (SNR) >= 30?"
      ]
    },
    {
      "cell_type": "code",
      "execution_count": null,
      "metadata": {
        "id": "8kiuc2hZmQJ7"
      },
      "outputs": [],
      "source": []
    }
  ],
  "metadata": {
    "colab": {
      "name": "Tuto 1.1 Discovering Open Data.ipynb",
      "provenance": []
    },
    "kernelspec": {
      "display_name": "Python 3 (ipykernel)",
      "language": "python",
      "name": "python3"
    },
    "language_info": {
      "codemirror_mode": {
        "name": "ipython",
        "version": 3
      },
      "file_extension": ".py",
      "mimetype": "text/x-python",
      "name": "python",
      "nbconvert_exporter": "python",
      "pygments_lexer": "ipython3",
      "version": "3.11.11"
    }
  },
  "nbformat": 4,
  "nbformat_minor": 0
}